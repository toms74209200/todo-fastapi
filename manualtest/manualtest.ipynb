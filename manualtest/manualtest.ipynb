{
 "cells": [
  {
   "cell_type": "markdown",
   "id": "5c12ffa6",
   "metadata": {},
   "source": [
    "## ユーザー登録API"
   ]
  },
  {
   "cell_type": "code",
   "execution_count": null,
   "id": "a682810f-a72b-4a41-9f88-eac1370277de",
   "metadata": {},
   "outputs": [],
   "source": [
    "import requests\n",
    "\n",
    "from lib.api_config import DOMAIN\n",
    "from lib.utils import random_string\n",
    "\n",
    "json = {\n",
    "    \"email\": f\"{random_string(10)}@example.com\",\n",
    "    \"password\": \"password\",\n",
    "}\n",
    "response = requests.post(f\"http://{DOMAIN}/users\", json=json)\n",
    "\n",
    "print(response.status_code)\n",
    "print(response.json())"
   ]
  },
  {
   "cell_type": "code",
   "execution_count": null,
   "id": "c62e0918",
   "metadata": {},
   "outputs": [],
   "source": [
    "!EMAIL=`head -c 32 /dev/urandom | base64 | tr -dc 'a-zA-Z0-9' | head -c 16`; \\\n",
    "jq -n \"{email: \\\"$EMAIL@example.com\\\", password: \\\"password\\\"}\" | curl -v --json @- \"http://$DOMAIN/users\""
   ]
  },
  {
   "cell_type": "markdown",
   "id": "a5d5ecff",
   "metadata": {},
   "source": [
    "## ユーザー認証API"
   ]
  },
  {
   "cell_type": "code",
   "execution_count": null,
   "id": "c978d0f7",
   "metadata": {},
   "outputs": [],
   "source": [
    "import requests\n",
    "\n",
    "from lib.api_config import DOMAIN\n",
    "from lib.utils import random_string\n",
    "\n",
    "email = f\"{random_string(10)}@example.com\"\n",
    "password = \"password\"\n",
    "\n",
    "register_json = {\n",
    "    \"email\": email,\n",
    "    \"password\": password,\n",
    "}\n",
    "register_response = requests.post(f\"http://{DOMAIN}/users\", json=register_json)\n",
    "print(\"Register status:\", register_response.status_code)\n",
    "\n",
    "auth_json = {\n",
    "    \"email\": email,\n",
    "    \"password\": password,\n",
    "}\n",
    "auth_response = requests.post(f\"http://{DOMAIN}/auth\", json=auth_json)\n",
    "\n",
    "print(\"Auth status:\", auth_response.status_code)\n",
    "print(\"Response:\", auth_response.json())"
   ]
  },
  {
   "cell_type": "code",
   "execution_count": null,
   "id": "7da5b538",
   "metadata": {
    "scrolled": true
   },
   "outputs": [],
   "source": [
    "!EMAIL=`head -c 32 /dev/urandom | base64 | tr -dc 'a-zA-Z0-9' | head -c 16`; \\\n",
    "jq -n \"{email: \\\"$EMAIL@example.com\\\", password: \\\"password\\\"}\" | curl -v --json @- \"http://$DOMAIN/users\" && \\\n",
    "jq -n \"{email: \\\"$EMAIL@example.com\\\", password: \\\"password\\\"}\" | curl -v --json @- \"http://$DOMAIN/auth\""
   ]
  },
  {
   "cell_type": "markdown",
   "id": "2a21d32d",
   "metadata": {},
   "source": [
    "## タスク作成API"
   ]
  },
  {
   "cell_type": "code",
   "execution_count": null,
   "id": "2b150cbb",
   "metadata": {},
   "outputs": [],
   "source": [
    "import datetime\n",
    "import requests\n",
    "\n",
    "from lib.api_config import DOMAIN\n",
    "from lib.utils import random_string\n",
    "\n",
    "email = f\"{random_string(10)}@example.com\"\n",
    "password = \"password\"\n",
    "\n",
    "register_json = {\n",
    "    \"email\": email,\n",
    "    \"password\": password,\n",
    "}\n",
    "register_response = requests.post(f\"http://{DOMAIN}/users\", json=register_json)\n",
    "print(\"Register status:\", register_response.status_code)\n",
    "\n",
    "auth_json = {\n",
    "    \"email\": email,\n",
    "    \"password\": password,\n",
    "}\n",
    "auth_response = requests.post(f\"http://{DOMAIN}/auth\", json=auth_json)\n",
    "token = auth_response.json()[\"token\"]\n",
    "print(\"Auth status:\", auth_response.status_code)\n",
    "\n",
    "deadline = datetime.datetime.now() + datetime.timedelta(days=1)\n",
    "task_json = {\n",
    "    \"name\": \"task1\",\n",
    "    \"description\": \"description1\",\n",
    "    \"deadline\": deadline.strftime(\"%Y-%m-%dT%H:%M:%SZ\"),\n",
    "    \"completed\": False\n",
    "}\n",
    "\n",
    "task_response = requests.post(\n",
    "    f\"http://{DOMAIN}/tasks\",\n",
    "    headers={\n",
    "        \"Authorization\": f\"Bearer {token}\",\n",
    "    },\n",
    "    json=task_json\n",
    ")\n",
    "\n",
    "print(\"Task creation status:\", task_response.status_code)\n",
    "print(\"Response:\", task_response.json())"
   ]
  },
  {
   "cell_type": "code",
   "execution_count": null,
   "id": "bfc01062-a17e-4eb7-ba81-8dbd2ca084f5",
   "metadata": {},
   "outputs": [],
   "source": [
    "!EMAIL=`head -c 32 /dev/urandom | base64 | tr -dc 'a-zA-Z0-9' | head -c 16`; \\\n",
    "jq -n \"{email: \\\"$EMAIL@example.com\\\", password: \\\"password\\\"}\" | curl -v --json @- \"http://$DOMAIN/users\" && \\\n",
    "TOKEN=`jq -n \"{email: \\\"$EMAIL@example.com\\\", password: \\\"password\\\"}\" | curl -v --json @- \"http://$DOMAIN/auth\" | jq -r .token` && \\\n",
    "DATE=`date -u +\"%Y-%m-%dT%H:%M:%SZ\"`; \\\n",
    "jq -n \"{name: \\\"task1\\\", description: \\\"description1\\\", deadline:\\\"$DATE\\\", completed: false}\" | \\\n",
    "curl -v -H \"Authorization: Bearer $TOKEN\" --json @- \"http://$DOMAIN/tasks\""
   ]
  },
  {
   "cell_type": "markdown",
   "id": "73feff39",
   "metadata": {},
   "source": [
    "## タスク取得API"
   ]
  },
  {
   "cell_type": "code",
   "execution_count": null,
   "id": "7405b774",
   "metadata": {},
   "outputs": [],
   "source": [
    "import datetime\n",
    "import requests\n",
    "\n",
    "from lib.api_config import DOMAIN\n",
    "from lib.utils import random_string\n",
    "\n",
    "email = f\"{random_string(10)}@example.com\"\n",
    "password = \"password\"\n",
    "\n",
    "register_json = {\n",
    "    \"email\": email,\n",
    "    \"password\": password,\n",
    "}\n",
    "register_response = requests.post(f\"http://{DOMAIN}/users\", json=register_json)\n",
    "user_id = register_response.json()[\"id\"]\n",
    "print(\"Register status:\", register_response.status_code)\n",
    "\n",
    "auth_json = {\n",
    "    \"email\": email,\n",
    "    \"password\": password,\n",
    "}\n",
    "auth_response = requests.post(f\"http://{DOMAIN}/auth\", json=auth_json)\n",
    "token = auth_response.json()[\"token\"]\n",
    "print(\"Auth status:\", auth_response.status_code)\n",
    "\n",
    "deadline = datetime.datetime.now() + datetime.timedelta(days=1)\n",
    "task_json = {\n",
    "    \"name\": \"task1\",\n",
    "    \"description\": \"description1\",\n",
    "    \"deadline\": deadline.strftime(\"%Y-%m-%dT%H:%M:%SZ\"),\n",
    "    \"completed\": False\n",
    "}\n",
    "\n",
    "task_response = requests.post(\n",
    "    f\"http://{DOMAIN}/tasks\",\n",
    "    headers={\n",
    "        \"Authorization\": f\"Bearer {token}\",\n",
    "    },\n",
    "    json=task_json\n",
    ")\n",
    "\n",
    "print(\"Task creation status:\", task_response.status_code)\n",
    "\n",
    "get_response = requests.get(\n",
    "    f\"http://{DOMAIN}/tasks?userId={user_id}\",\n",
    "    headers={\n",
    "        \"Authorization\": f\"Bearer {token}\",\n",
    "    },\n",
    ")\n",
    "\n",
    "print(\"Task get status:\", get_response.status_code)\n",
    "print(\"Response:\", get_response.json())"
   ]
  },
  {
   "cell_type": "code",
   "execution_count": null,
   "id": "63e7ba5d",
   "metadata": {},
   "outputs": [],
   "source": [
    "!EMAIL=`head -c 32 /dev/urandom | base64 | tr -dc 'a-zA-Z0-9' | head -c 16`; \\\n",
    "USER_ID=`jq -n \"{email: \\\"$EMAIL@example.com\\\", password: \\\"password\\\"}\" | curl -s --json @- \"http://$DOMAIN/users\" | jq -r .id` && \\\n",
    "TOKEN=`jq -n \"{email: \\\"$EMAIL@example.com\\\", password: \\\"password\\\"}\" | curl -s --json @- \"http://$DOMAIN/auth\" | jq -r .token` && \\\n",
    "DATE=`date -u +\"%Y-%m-%dT%H:%M:%SZ\"`; \\\n",
    "jq -n \"{name: \\\"task1\\\", description: \\\"description1\\\", deadline:\\\"$DATE\\\", completed: false}\" | \\\n",
    "curl -s -H \"Authorization: Bearer $TOKEN\" --json @- \"http://$DOMAIN/tasks\" > /dev/null && \\\n",
    "curl -v -H \"Authorization: Bearer $TOKEN\" \"http://$DOMAIN/tasks?userId=$USER_ID\""
   ]
  }
 ],
 "metadata": {
  "kernelspec": {
   "display_name": "Python 3 (ipykernel)",
   "language": "python",
   "name": "python3"
  },
  "language_info": {
   "codemirror_mode": {
    "name": "ipython",
    "version": 3
   },
   "file_extension": ".py",
   "mimetype": "text/x-python",
   "name": "python",
   "nbconvert_exporter": "python",
   "pygments_lexer": "ipython3",
   "version": "3.12.8"
  }
 },
 "nbformat": 4,
 "nbformat_minor": 5
}
