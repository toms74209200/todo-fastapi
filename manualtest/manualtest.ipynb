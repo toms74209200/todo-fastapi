{
 "cells": [
  {
   "cell_type": "markdown",
   "id": "5c12ffa6",
   "metadata": {},
   "source": [
    "## ユーザー登録API"
   ]
  },
  {
   "cell_type": "code",
   "execution_count": null,
   "id": "a682810f-a72b-4a41-9f88-eac1370277de",
   "metadata": {},
   "outputs": [],
   "source": [
    "import requests\n",
    "\n",
    "from lib.api_config import DOMAIN\n",
    "from lib.utils import random_string\n",
    "\n",
    "json = {\n",
    "    \"email\": f\"{random_string(10)}@example.com\",\n",
    "    \"password\": \"password\",\n",
    "}\n",
    "response = requests.post(f\"http://{DOMAIN}/users\", json=json)\n",
    "\n",
    "print(response.status_code)\n",
    "print(response.json())"
   ]
  },
  {
   "cell_type": "code",
   "execution_count": null,
   "id": "c62e0918",
   "metadata": {},
   "outputs": [],
   "source": [
    "!curl -v -H 'Content-Type:Application/json' -d '{\"email\": \"test@example.com\", \"password\": \"password\"}' \"http://$DOMAIN/users\""
   ]
  },
  {
   "cell_type": "markdown",
   "id": "a5d5ecff",
   "metadata": {},
   "source": [
    "## ユーザー認証API"
   ]
  },
  {
   "cell_type": "code",
   "execution_count": null,
   "id": "c978d0f7",
   "metadata": {},
   "outputs": [],
   "source": [
    "import requests\n",
    "\n",
    "from lib.api_config import DOMAIN\n",
    "from lib.utils import random_string\n",
    "\n",
    "email = f\"{random_string(10)}@example.com\"\n",
    "password = \"password\"\n",
    "\n",
    "register_json = {\n",
    "    \"email\": email,\n",
    "    \"password\": password,\n",
    "}\n",
    "register_response = requests.post(f\"http://{DOMAIN}/users\", json=register_json)\n",
    "print(\"Register status:\", register_response.status_code)\n",
    "\n",
    "auth_json = {\n",
    "    \"email\": email,\n",
    "    \"password\": password,\n",
    "}\n",
    "auth_response = requests.post(f\"http://{DOMAIN}/auth\", json=auth_json)\n",
    "\n",
    "print(\"Auth status:\", auth_response.status_code)\n",
    "print(\"Response:\", auth_response.json())"
   ]
  },
  {
   "cell_type": "code",
   "execution_count": null,
   "id": "7da5b538",
   "metadata": {},
   "outputs": [],
   "source": [
    "!EMAIL=`cat /dev/urandom | tr -dc 'a-zA-Z0-9' | fold -w 16 | head -n 1`; curl -v -H 'Content-Type:Application/json' -d '{\"email\": \"$EMAIL@example.com\", \"password\": \"password\"}' \"http://$DOMAIN/users\"; curl -v -H 'Content-Type:Application/json' -d '{\"email\": \"$EMAIL@example.com\", \"password\": \"password\"}' \"http://$DOMAIN/auth\""
   ]
  },
  {
   "cell_type": "code",
   "execution_count": null,
   "id": "dc6cd225-278f-406f-963e-4bf8859afe6e",
   "metadata": {},
   "outputs": [],
   "source": []
  }
 ],
 "metadata": {
  "kernelspec": {
   "display_name": "Python 3 (ipykernel)",
   "language": "python",
   "name": "python3"
  },
  "language_info": {
   "codemirror_mode": {
    "name": "ipython",
    "version": 3
   },
   "file_extension": ".py",
   "mimetype": "text/x-python",
   "name": "python",
   "nbconvert_exporter": "python",
   "pygments_lexer": "ipython3",
   "version": "3.12.8"
  }
 },
 "nbformat": 4,
 "nbformat_minor": 5
}
