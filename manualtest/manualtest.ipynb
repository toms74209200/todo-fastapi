{
 "cells": [
  {
   "cell_type": "markdown",
   "id": "5c12ffa6",
   "metadata": {},
   "source": [
    "## ユーザー登録API"
   ]
  },
  {
   "cell_type": "code",
   "execution_count": null,
   "id": "a682810f-a72b-4a41-9f88-eac1370277de",
   "metadata": {},
   "outputs": [],
   "source": [
    "import requests\n",
    "\n",
    "from lib.api_config import DOMAIN\n",
    "from lib.utils import random_string\n",
    "\n",
    "json = {\n",
    "    \"email\": f\"{random_string(10)}@example.com\",\n",
    "    \"password\": \"password\",\n",
    "}\n",
    "response = requests.post(f\"http://{DOMAIN}/users\", json=json)\n",
    "\n",
    "print(response.status_code)\n",
    "print(response.json())"
   ]
  },
  {
   "cell_type": "code",
   "execution_count": null,
   "id": "c62e0918",
   "metadata": {},
   "outputs": [],
   "source": [
    "!curl -v -H 'Content-Type:Application/json' -d '{\"email\": \"test@example.com\", \"password\": \"password\"}' \"http://$DOMAIN/users\""
   ]
  }
 ],
 "metadata": {
  "kernelspec": {
   "display_name": "Python 3 (ipykernel)",
   "language": "python",
   "name": "python3"
  },
  "language_info": {
   "codemirror_mode": {
    "name": "ipython",
    "version": 3
   },
   "file_extension": ".py",
   "mimetype": "text/x-python",
   "name": "python",
   "nbconvert_exporter": "python",
   "pygments_lexer": "ipython3",
   "version": "3.12.8"
  }
 },
 "nbformat": 4,
 "nbformat_minor": 5
}
